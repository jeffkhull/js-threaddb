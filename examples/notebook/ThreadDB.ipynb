{
  "cells": [
    {
      "cell_type": "markdown",
      "source": [
        "# ThreadDB Usage Demo\n",
        "\n",
        "Welcome to ThreadDB. Here is a brief demo of some of the basic usage of ThreadDB. If you’re running this code in NodeJS, it will automatically include an IndexedDB polyfill to store data in SQLite, otherwise (in a browser) it should leverage the embedded IndexedDB database."
      ],
      "metadata": {
        "nteract": {
          "transient": {
            "deleting": false
          }
        }
      }
    },
    {
      "cell_type": "code",
      "source": [
        "import { Database } from \"@textile/threaddb\";\n",
        "import { schema, Person } from \"./schema\";"
      ],
      "outputs": [],
      "execution_count": 1,
      "metadata": {
        "collapsed": true,
        "jupyter": {
          "source_hidden": false,
          "outputs_hidden": false
        },
        "nteract": {
          "transient": {
            "deleting": false
          }
        },
        "execution": {
          "iopub.status.busy": "2020-11-06T21:55:00.812Z",
          "iopub.status.idle": "2020-11-06T21:55:01.417Z",
          "shell.execute_reply": "2020-11-06T21:55:01.406Z"
        }
      }
    },
    {
      "cell_type": "markdown",
      "source": [
        "## Local First\n",
        "\n",
        "One of the design constraints we set for ourselves when building ThreadDB was to ensure that a developer or user could get up and going with ThreadDB without an internet connection, and without any prior orchestration with a remote. So to create a new Database is as easy as:"
      ],
      "metadata": {
        "nteract": {
          "transient": {
            "deleting": false
          }
        }
      }
    },
    {
      "cell_type": "code",
      "source": [
        "// Create an empty db, with a defined schema, and open it\n",
        "const db = await new Database(\"demo\", { name: \"Person\", schema })\n",
        "    .open(1); // Versioned dbs"
      ],
      "outputs": [],
      "execution_count": 2,
      "metadata": {
        "collapsed": true,
        "jupyter": {
          "source_hidden": false,
          "outputs_hidden": false
        },
        "nteract": {
          "transient": {
            "deleting": false
          }
        },
        "execution": {
          "iopub.status.busy": "2020-11-06T21:56:35.857Z",
          "iopub.status.idle": "2020-11-06T21:56:35.975Z",
          "shell.execute_reply": "2020-11-06T21:56:35.959Z"
        }
      }
    },
    {
      "cell_type": "markdown",
      "source": [
        "We make a few assumptions to make this easy. 1. That the developer knows the schema(s) that they want to use for their Collections ahead of time, and 2. That a change in schemas will result in a change in the database version (so we also have versioned databases, thanks to Dexie).\n",
        "\n",
        "Now, we just start using it. Similarly to MongoDB you can get a given Collection, and you can insert data into it. In our case, it will do schema validation on the way in.\n"
      ],
      "metadata": {
        "nteract": {
          "transient": {
            "deleting": false
          }
        }
      }
    },
    {
      "cell_type": "code",
      "source": [
        "// Just start using it!\n",
        "const Person = db.collection(\"Person\")\n",
        "await Person.insert({ name: \"Carson\", age: 37 });"
      ],
      "outputs": [
        {
          "output_type": "stream",
          "name": "stdout",
          "text": [
            "[ '01EPFRZYRZCM3X21KBS89BWX3X' ]\n"
          ]
        }
      ],
      "execution_count": 3,
      "metadata": {
        "collapsed": true,
        "jupyter": {
          "source_hidden": false,
          "outputs_hidden": false
        },
        "nteract": {
          "transient": {
            "deleting": false
          }
        },
        "execution": {
          "iopub.status.busy": "2020-11-06T21:56:54.658Z",
          "iopub.status.idle": "2020-11-06T21:56:54.827Z",
          "shell.execute_reply": "2020-11-06T21:56:54.850Z"
        }
      }
    },
    {
      "cell_type": "markdown",
      "source": [
        "Because it is often useful to create an Instance before inserting it into the database, you can do that via the `create` method on a Collection:"
      ],
      "metadata": {
        "nteract": {
          "transient": {
            "deleting": false
          }
        }
      }
    },
    {
      "cell_type": "code",
      "source": [
        "// We can create instances before committing them\n",
        "const entity = Person.create({ name: \"Other\", age: 2 });\n",
        "await entity.exists() // false\n",
        "await Person.has(entity._id); // false"
      ],
      "outputs": [
        {
          "output_type": "stream",
          "name": "stdout",
          "text": [
            "false\n"
          ]
        }
      ],
      "execution_count": 4,
      "metadata": {
        "collapsed": true,
        "jupyter": {
          "source_hidden": false,
          "outputs_hidden": false
        },
        "nteract": {
          "transient": {
            "deleting": false
          }
        },
        "execution": {
          "iopub.status.busy": "2020-11-06T21:57:17.773Z",
          "iopub.status.idle": "2020-11-06T21:57:17.827Z",
          "shell.execute_reply": "2020-11-06T21:57:17.844Z"
        }
      }
    },
    {
      "cell_type": "markdown",
      "source": [
        "All instances have an _id property like in MongoDB, which in our case, is a ULID. Once we have an instance, it has many useful properties that allow us to save, check if it exists in the database, delete, etc."
      ],
      "metadata": {
        "nteract": {
          "transient": {
            "deleting": false
          }
        }
      }
    },
    {
      "cell_type": "code",
      "source": [
        "await entity.save();\n",
        "await entity.exists(); // true"
      ],
      "outputs": [
        {
          "output_type": "stream",
          "name": "stdout",
          "text": [
            "true\n"
          ]
        }
      ],
      "execution_count": 5,
      "metadata": {
        "collapsed": true,
        "jupyter": {
          "source_hidden": false,
          "outputs_hidden": false
        },
        "nteract": {
          "transient": {
            "deleting": false
          }
        },
        "execution": {
          "iopub.status.busy": "2020-11-06T21:57:28.562Z",
          "iopub.status.idle": "2020-11-06T21:57:28.630Z",
          "shell.execute_reply": "2020-11-06T21:57:28.648Z"
        }
      }
    },
    {
      "cell_type": "markdown",
      "source": [
        "As with any reasonable database, you can query it, grab all Instances, count things, etc. We provide some nice MongoDB style querying, but you also have access to the full suite of query tools provided by Dexie if you want them:"
      ],
      "metadata": {
        "nteract": {
          "transient": {
            "deleting": false
          }
        }
      }
    },
    {
      "cell_type": "code",
      "source": [
        "await Person.find({}).count(); // Should be at least 2"
      ],
      "outputs": [
        {
          "output_type": "stream",
          "name": "stdout",
          "text": [
            "2\n"
          ]
        }
      ],
      "execution_count": 6,
      "metadata": {
        "collapsed": true,
        "jupyter": {
          "source_hidden": false,
          "outputs_hidden": false
        },
        "nteract": {
          "transient": {
            "deleting": false
          }
        },
        "execution": {
          "iopub.status.busy": "2020-11-06T21:57:35.449Z",
          "iopub.status.idle": "2020-11-06T21:57:35.467Z",
          "shell.execute_reply": "2020-11-06T21:57:35.475Z"
        }
      }
    },
    {
      "cell_type": "markdown",
      "source": [
        "Similarly, things like transactions are supported by ThreadDB. We have readTransaction and writeTransaction support, which matches our Go implementation to some degree. These are useful for batch inserts and for providing proper isolation and automaticity guarantees:\n"
      ],
      "metadata": {
        "nteract": {
          "transient": {
            "deleting": false
          }
        }
      }
    },
    {
      "cell_type": "code",
      "source": [
        "const person = { name: \"Someting\", age: 4 }\n",
        "await Person.writeTransaction(async function () {\n",
        "  const [id] = await Person.insert(person);\n",
        "});"
      ],
      "outputs": [],
      "execution_count": 7,
      "metadata": {
        "collapsed": true,
        "jupyter": {
          "source_hidden": false,
          "outputs_hidden": false
        },
        "nteract": {
          "transient": {
            "deleting": false
          }
        },
        "execution": {
          "iopub.status.busy": "2020-11-06T21:58:06.761Z",
          "iopub.status.idle": "2020-11-06T21:58:06.822Z",
          "shell.execute_reply": "2020-11-06T21:58:06.806Z"
        }
      }
    },
    {
      "cell_type": "markdown",
      "source": [
        "By the way, `insert` and many other methods take a variadic list of inputs, which makes it easy to do bulk inserts even when not using a transaction explicitly.\n",
        "\n",
        "And of course, more complex queries are possible thanks to the (subset of) MongoDB query language that ThreadDB supports:"
      ],
      "metadata": {
        "nteract": {
          "transient": {
            "deleting": false
          }
        }
      }
    },
    {
      "cell_type": "code",
      "source": [
        "const people = Person.find({\n",
        "  $or: [{ age: { $gt: 2 } }, { name: { $eq: \"Something\" } }],\n",
        "} as any); // Should still find all 3 people\n",
        "await people.toArray();"
      ],
      "outputs": [
        {
          "output_type": "stream",
          "name": "stdout",
          "text": [
            "[\n",
            "  DocumentInstance {\n",
            "    name: 'Carson',\n",
            "    age: 37,\n",
            "    _id: '01EPFRZYRZCM3X21KBS89BWX3X'\n",
            "  },\n",
            "  DocumentInstance {\n",
            "    name: 'Someting',\n",
            "    age: 4,\n",
            "    _id: '01EPFS25679HZ7PQW0M5EGD8K1'\n",
            "  }\n",
            "]\n"
          ]
        }
      ],
      "execution_count": 8,
      "metadata": {
        "collapsed": true,
        "jupyter": {
          "source_hidden": false,
          "outputs_hidden": false
        },
        "nteract": {
          "transient": {
            "deleting": false
          }
        },
        "execution": {
          "iopub.status.busy": "2020-11-06T21:58:24.143Z",
          "iopub.status.idle": "2020-11-06T21:58:24.189Z",
          "shell.execute_reply": "2020-11-06T21:58:24.206Z"
        }
      }
    },
    {
      "cell_type": "markdown",
      "source": [
        "## Remotes\n",
        "\n",
        "So far, we’ve only be doing local operations. Now it’s time to interact with a remote daemon. If you aren’t familiar with Textile’s Thread daemons, we recommend you [read up on them here](https://github.com/textileio/go-threads). The protocols and design of ThreadDB can be explored in detail in the white-paper: [A protocol & event-sourced database for decentralized user-siloed data](https://docsend.com/view/gu3ywqi). For further technical details. the reference implementation of Threads is written in Go and the full implementation details can be found [on godocs](https://godoc.org/github.com/textileio/go-threads). But for now, let’s simply connect to the Hub’s remote Threads daemon, so we don’t have to worry about running our own.\n",
        "\n",
        "For working against the Hub, you’ll need a developer key, see the links above for some examples on how to generate this. We recommend starting with an insecure key for developing locally, before upgrading to a production setup.\n",
        "\n",
        "\n",
        "> Please remember to use your own keys, rather than the demos keys provided in the Notebook!"
      ],
      "metadata": {
        "nteract": {
          "transient": {
            "deleting": false
          }
        }
      }
    },
    {
      "cell_type": "code",
      "source": [
        "// Set key info (this is an insecure key)\n",
        "const key = \"\" // Replace with yours\n",
        "const remote = await db.remote.setKeyInfo({ key })"
      ],
      "outputs": [],
      "execution_count": 9,
      "metadata": {
        "collapsed": true,
        "jupyter": {
          "source_hidden": false,
          "outputs_hidden": false
        },
        "nteract": {
          "transient": {
            "deleting": false
          }
        },
        "execution": {
          "iopub.status.busy": "2020-11-06T21:59:24.808Z",
          "iopub.status.idle": "2020-11-06T21:59:24.824Z",
          "shell.execute_reply": "2020-11-06T21:59:24.831Z"
        }
      }
    },
    {
      "cell_type": "markdown",
      "source": [
        "Once we’ve “set” our remote, it is pretty easy to start working against it. But there are two things we need to do before we can start pushing data. The first, is to authenticate our local “user” or database instance, with the remote. This is required, regardless of the remote Threads daemon we are connecting with, be it the Hub, or our own daemon running on our laptop. Authentication is always against a public key (defaulting to an ED25519 signing pair). ThreadDB makes this super easy if you are working with our default key objects:"
      ],
      "metadata": {
        "nteract": {
          "transient": {
            "deleting": false
          }
        }
      }
    },
    {
      "cell_type": "code",
      "source": [
        "import { PrivateKey } from \"@textile/crypto\";\n",
        "\n",
        "// New random identity\n",
        "const privateKey = PrivateKey.fromRandom()\n",
        "// Grab the token, save it, or just use it\n",
        "const token = await remote.authorize(privateKey);\n",
        "console.log(token)"
      ],
      "outputs": [],
      "execution_count": null,
      "metadata": {
        "collapsed": true,
        "jupyter": {
          "source_hidden": false,
          "outputs_hidden": false
        },
        "nteract": {
          "transient": {
            "deleting": false
          }
        },
        "execution": {
          "iopub.status.busy": "2020-11-06T21:59:51.008Z",
          "iopub.status.idle": "2020-11-06T21:59:51.707Z",
          "shell.execute_reply": "2020-11-06T21:59:51.731Z"
        }
      }
    },
    {
      "cell_type": "markdown",
      "source": [
        "The response from `remote.authorize` is a token string. This is actually automatically added to the remote’s metadata under the hood, but since this token doesn’t expire, a developer might wish to store this in the user’s localStorage, or otherwise cache this information. You could even store the token within the user’s database if you wanted, though be advised, you should probably encrypt it if you are going to persist it anywhere insecure.\n",
        "\n",
        "Now we’re ready to start working against the remote. The first thing you’ll likely want to do, is initialize a new database on the remote. This is essentially allocating a new Thread, and pushing the local schema information to the remote database. In practice, you’ll likely want to do this the first time a user connects with the remote daemon, and only then. But ThreadDB makes this operation pretty much idempotent, so if you accidentally try to initialize twice, you shouldn’t end up with more than one database on the remote. We’ll be working further to make this easier, so that it will detect version changes and things like that to handle schema changes “on the fly”."
      ],
      "metadata": {
        "nteract": {
          "transient": {
            "deleting": false
          }
        }
      }
    },
    {
      "cell_type": "code",
      "source": [
        "const id = await remote.initialize(); // Create random thread\n",
        "console.log(id)"
      ],
      "outputs": [],
      "execution_count": null,
      "metadata": {
        "collapsed": true,
        "jupyter": {
          "source_hidden": false,
          "outputs_hidden": false
        },
        "nteract": {
          "transient": {
            "deleting": false
          }
        },
        "execution": {
          "iopub.status.busy": "2020-11-06T22:00:02.275Z",
          "iopub.status.idle": "2020-11-06T22:00:03.431Z",
          "shell.execute_reply": "2020-11-06T22:00:03.446Z"
        }
      }
    },
    {
      "cell_type": "markdown",
      "source": [
        "If course, if you already have a Thread/DB in mind, you can provide that string to the initialize method. This is a good idea if you want to invite another peer to your Thread that was created by a different peer, or if you have a “static” Thread that all users are going to interact with.\n",
        "\n",
        "Now you just push…"
      ],
      "metadata": {
        "nteract": {
          "transient": {
            "deleting": false
          }
        }
      }
    },
    {
      "cell_type": "code",
      "source": [
        "await remote.push(\"Person\");"
      ],
      "outputs": [],
      "execution_count": 12,
      "metadata": {
        "collapsed": true,
        "jupyter": {
          "source_hidden": false,
          "outputs_hidden": false
        },
        "nteract": {
          "transient": {
            "deleting": false
          }
        },
        "execution": {
          "iopub.status.busy": "2020-11-06T22:00:09.523Z",
          "shell.execute_reply": "2020-11-06T22:00:13.106Z",
          "iopub.status.idle": "2020-11-06T22:00:13.121Z"
        }
      }
    },
    {
      "cell_type": "markdown",
      "source": [
        "Assuming no conflicts or issues with connecting to the remote, you’re off to the races. We can actually use our existing Threads Client library to validate that our changes were indeed pushed:"
      ],
      "metadata": {
        "nteract": {
          "transient": {
            "deleting": false
          }
        }
      }
    },
    {
      "cell_type": "code",
      "source": [
        "import { Client } from \"@textile/threads-client\"\n",
        "import { ThreadID } from \"@textile/threads-id\"\n",
        "\n",
        "const client = await Client.withKeyInfo({ key })\n",
        "// Grab context just for our demo, not really needed\n",
        "const context = client.context.withToken(token)\n",
        "const found = await client.find(ThreadID.fromString(id), \"Person\", {})\n",
        "console.log(found)"
      ],
      "outputs": [
        {
          "output_type": "stream",
          "name": "stdout",
          "text": [
            "[\n",
            "  { name: 'Carson', age: 37, _id: '01EPFRZYRZCM3X21KBS89BWX3X' },\n",
            "  { _id: '01EPFS0NBK2QFA6SY1ZEECYDHE', name: 'Other', age: 2 },\n",
            "  { name: 'Someting', age: 4, _id: '01EPFS25679HZ7PQW0M5EGD8K1' }\n",
            "]\n"
          ]
        }
      ],
      "execution_count": 13,
      "metadata": {
        "collapsed": true,
        "jupyter": {
          "source_hidden": false,
          "outputs_hidden": false
        },
        "nteract": {
          "transient": {
            "deleting": false
          }
        },
        "execution": {
          "iopub.status.busy": "2020-11-06T22:00:21.253Z",
          "iopub.status.idle": "2020-11-06T22:00:22.454Z",
          "shell.execute_reply": "2020-11-06T22:00:22.469Z"
        }
      }
    },
    {
      "cell_type": "markdown",
      "source": [
        "If all went according to plan, you should have the same set of instances on the remote as you do locally. Now try pushing more updates, or creating updates directly on the remote and pulling them into your local state. The remote API also has tools to “stash”, and “rebase” local changes on top of remote changes, and all sorts of additional tooling. This is what you should start playing with. Break it, we’ll fix it, and we’ll all build something amazing together."
      ],
      "metadata": {
        "nteract": {
          "transient": {
            "deleting": false
          }
        }
      }
    }
  ],
  "metadata": {
    "kernel_info": {
      "name": "jslab"
    },
    "language_info": {
      "name": "typescript",
      "version": "3.7.2",
      "mimetype": "text/typescript",
      "file_extension": ".ts",
      "codemirror_mode": {
        "mode": "typescript",
        "name": "javascript",
        "typescript": true
      }
    },
    "kernelspec": {
      "argv": [
        "tslab",
        "kernel",
        "--config-path={connection_file}",
        "--js"
      ],
      "display_name": "JavaScript",
      "language": "javascript",
      "name": "jslab"
    },
    "nteract": {
      "version": "0.26.0"
    }
  },
  "nbformat": 4,
  "nbformat_minor": 0
}